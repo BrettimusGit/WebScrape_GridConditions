{
 "cells": [
  {
   "cell_type": "code",
   "execution_count": 1,
   "metadata": {},
   "outputs": [],
   "source": [
    "import pandas as pd\n",
    "from webdriver_manager.chrome import ChromeDriverManager\n",
    "from splinter import Browser\n",
    "import datetime\n",
    "import time"
   ]
  },
  {
   "cell_type": "code",
   "execution_count": 2,
   "metadata": {},
   "outputs": [
    {
     "name": "stderr",
     "output_type": "stream",
     "text": [
      "[WDM] - Current google-chrome version is 91.0.4472\n",
      "[WDM] - Get LATEST driver version for 91.0.4472\n",
      "[WDM] - Driver [C:\\Users\\kheat\\.wdm\\drivers\\chromedriver\\win32\\91.0.4472.101\\chromedriver.exe] found in cache\n"
     ]
    },
    {
     "name": "stdout",
     "output_type": "stream",
     "text": [
      " \n"
     ]
    }
   ],
   "source": [
    "executable_path = {'executable_path': ChromeDriverManager().install()}\n",
    "browser = Browser('chrome', **executable_path, headless=False)"
   ]
  },
  {
   "cell_type": "code",
   "execution_count": 3,
   "metadata": {},
   "outputs": [
    {
     "name": "stdout",
     "output_type": "stream",
     "text": [
      "Recorded 1 of 7. Recording next step.....\n",
      "Recorded 2 of 7. Recording next step.....\n",
      "Recorded 3 of 7. Recording next step.....\n",
      "Recorded 4 of 7. Recording next step.....\n",
      "Recorded 5 of 7. Recording next step.....\n",
      "Recorded 6 of 7. Recording next step.....\n"
     ]
    },
    {
     "data": {
      "text/html": [
       "<div>\n",
       "<style scoped>\n",
       "    .dataframe tbody tr th:only-of-type {\n",
       "        vertical-align: middle;\n",
       "    }\n",
       "\n",
       "    .dataframe tbody tr th {\n",
       "        vertical-align: top;\n",
       "    }\n",
       "\n",
       "    .dataframe thead th {\n",
       "        text-align: right;\n",
       "    }\n",
       "</style>\n",
       "<table border=\"1\" class=\"dataframe\">\n",
       "  <thead>\n",
       "    <tr style=\"text-align: right;\">\n",
       "      <th></th>\n",
       "      <th>Current Reserves</th>\n",
       "      <th>Current Demand</th>\n",
       "      <th>Current Capacity</th>\n",
       "      <th>Time Stamp</th>\n",
       "    </tr>\n",
       "  </thead>\n",
       "  <tbody>\n",
       "    <tr>\n",
       "      <th>0</th>\n",
       "      <td>5,023 MW</td>\n",
       "      <td>55,248 MW</td>\n",
       "      <td>67,376 MW</td>\n",
       "      <td>2021-07-16 10:38:48</td>\n",
       "    </tr>\n",
       "    <tr>\n",
       "      <th>1</th>\n",
       "      <td>5,023 MW</td>\n",
       "      <td>55,248 MW</td>\n",
       "      <td>67,376 MW</td>\n",
       "      <td>2021-07-16 10:38:58</td>\n",
       "    </tr>\n",
       "    <tr>\n",
       "      <th>2</th>\n",
       "      <td>5,020 MW</td>\n",
       "      <td>55,248 MW</td>\n",
       "      <td>67,376 MW</td>\n",
       "      <td>2021-07-16 10:39:08</td>\n",
       "    </tr>\n",
       "    <tr>\n",
       "      <th>3</th>\n",
       "      <td>5,019 MW</td>\n",
       "      <td>55,248 MW</td>\n",
       "      <td>67,376 MW</td>\n",
       "      <td>2021-07-16 10:39:18</td>\n",
       "    </tr>\n",
       "    <tr>\n",
       "      <th>4</th>\n",
       "      <td>4,991 MW</td>\n",
       "      <td>55,248 MW</td>\n",
       "      <td>67,376 MW</td>\n",
       "      <td>2021-07-16 10:39:28</td>\n",
       "    </tr>\n",
       "    <tr>\n",
       "      <th>5</th>\n",
       "      <td>5,007 MW</td>\n",
       "      <td>55,248 MW</td>\n",
       "      <td>67,376 MW</td>\n",
       "      <td>2021-07-16 10:39:38</td>\n",
       "    </tr>\n",
       "  </tbody>\n",
       "</table>\n",
       "</div>"
      ],
      "text/plain": [
       "  Current Reserves Current Demand Current Capacity           Time Stamp\n",
       "0         5,023 MW      55,248 MW        67,376 MW  2021-07-16 10:38:48\n",
       "1         5,023 MW      55,248 MW        67,376 MW  2021-07-16 10:38:58\n",
       "2         5,020 MW      55,248 MW        67,376 MW  2021-07-16 10:39:08\n",
       "3         5,019 MW      55,248 MW        67,376 MW  2021-07-16 10:39:18\n",
       "4         4,991 MW      55,248 MW        67,376 MW  2021-07-16 10:39:28\n",
       "5         5,007 MW      55,248 MW        67,376 MW  2021-07-16 10:39:38"
      ]
     },
     "execution_count": 3,
     "metadata": {},
     "output_type": "execute_result"
    }
   ],
   "source": [
    "url = 'http://www.ercot.com/'\n",
    "browser.visit(url)\n",
    "\n",
    "reserves = []\n",
    "demands = []\n",
    "caps = []\n",
    "time_stamps = []\n",
    "\n",
    "for step in range(1, 7):\n",
    "    reserve = browser.find_by_id(\"dyn-reserves\").text\n",
    "    demand = browser.find_by_id(\"dyn-demand\").text\n",
    "    cap = browser.find_by_id(\"dyn-capacity\").text\n",
    "    time_stamp = datetime.datetime.now()\n",
    "    time_stamp = time_stamp.strftime(\"%Y-%m-%d %H:%M:%S\")\n",
    "    \n",
    "    reserves.append(reserve)\n",
    "    demands.append(demand)\n",
    "    caps.append(cap)\n",
    "    time_stamps.append(time_stamp)\n",
    "    \n",
    "    print(f'Recorded {step} of 7. Recording next step.....')\n",
    "    time.sleep(10)\n",
    "    \n",
    "df = pd.DataFrame()\n",
    "\n",
    "df['Current Reserves'] = reserves\n",
    "df['Current Demand'] = demands\n",
    "df['Current Capacity'] = caps\n",
    "df['Time Stamp'] = time_stamps\n",
    "\n",
    "df   "
   ]
  },
  {
   "cell_type": "code",
   "execution_count": 4,
   "metadata": {},
   "outputs": [],
   "source": [
    "df.to_csv('ERCOT_Live_Demand_1min.csv', index=False)"
   ]
  }
 ],
 "metadata": {
  "kernelspec": {
   "display_name": "Python 3",
   "language": "python",
   "name": "python3"
  },
  "language_info": {
   "codemirror_mode": {
    "name": "ipython",
    "version": 3
   },
   "file_extension": ".py",
   "mimetype": "text/x-python",
   "name": "python",
   "nbconvert_exporter": "python",
   "pygments_lexer": "ipython3",
   "version": "3.8.3"
  }
 },
 "nbformat": 4,
 "nbformat_minor": 4
}
